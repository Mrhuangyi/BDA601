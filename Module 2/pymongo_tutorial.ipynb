{
 "cells": [
  {
   "cell_type": "code",
   "execution_count": 1,
   "metadata": {
    "tags": []
   },
   "outputs": [
    {
     "name": "stdout",
     "output_type": "stream",
     "text": [
      "Requirement already satisfied: pymongo in d:\\users\\rezaz\\pycharmprojects\\shazisaremi\\bda601\\venv\\lib\\site-packages (4.1.1)\n"
     ]
    }
   ],
   "source": [
    "!pip install pymongo"
   ]
  },
  {
   "cell_type": "code",
   "execution_count": 1,
   "metadata": {
    "jupyter": {
     "outputs_hidden": false
    },
    "pycharm": {
     "name": "#%%\n"
    }
   },
   "outputs": [],
   "source": [
    "from pymongo import MongoClient\n",
    "import datetime"
   ]
  },
  {
   "cell_type": "code",
   "execution_count": 2,
   "metadata": {},
   "outputs": [],
   "source": [
    "client = MongoClient()"
   ]
  },
  {
   "cell_type": "markdown",
   "metadata": {},
   "source": [
    "The above code will connect on the default host and port. We can also specify the host and port explicitly, as follows:"
   ]
  },
  {
   "cell_type": "code",
   "execution_count": 3,
   "metadata": {},
   "outputs": [
    {
     "data": {
      "text/plain": [
       "MongoClient(host=['localhost:27017'], document_class=dict, tz_aware=False, connect=True)"
      ]
     },
     "execution_count": 3,
     "metadata": {},
     "output_type": "execute_result"
    }
   ],
   "source": [
    "client = MongoClient(host=\"localhost\", port=27017)\n",
    "# OR\n",
    "client = MongoClient(\"mongodb://localhost:27017\")\n",
    "\n",
    "client"
   ]
  },
  {
   "cell_type": "markdown",
   "metadata": {},
   "source": [
    "**Getting a Database**\n",
    "Once you have a connected instance of MongoClient, \n",
    "you can access any database managed by the specified MongoDB server. \n",
    "To define which database you want to use, you can use the dot notation:"
   ]
  },
  {
   "cell_type": "code",
   "execution_count": 4,
   "metadata": {},
   "outputs": [
    {
     "data": {
      "text/plain": [
       "Database(MongoClient(host=['localhost:27017'], document_class=dict, tz_aware=False, connect=True), 'test_database')"
      ]
     },
     "execution_count": 4,
     "metadata": {},
     "output_type": "execute_result"
    }
   ],
   "source": [
    "db = client.test_database\n",
    "# OR \n",
    "db = client[\"test_database\"]\n",
    "#This statement is handy when the name of your database isn’t a valid Python identifier.\n",
    "\n",
    "db"
   ]
  },
  {
   "cell_type": "markdown",
   "metadata": {},
   "source": [
    "In this case, **newCollection** is an instance of **Collection** and represents a physical collection of documents in your database. You can insert documents into tutorial by calling `.insert_one()` on it with a document as an argument:"
   ]
  },
  {
   "cell_type": "code",
   "execution_count": 5,
   "metadata": {},
   "outputs": [
    {
     "data": {
      "text/plain": [
       "Collection(Database(MongoClient(host=['localhost:27017'], document_class=dict, tz_aware=False, connect=True), 'test_database'), 'test_collection')"
      ]
     },
     "execution_count": 5,
     "metadata": {},
     "output_type": "execute_result"
    }
   ],
   "source": [
    "collection = db.test_collection\n",
    "#OR\n",
    "collection = db['test_collection']\n",
    "#This statement is handy when the name of your collection isn’t a valid Python identifier.\n",
    "\n",
    "collection"
   ]
  },
  {
   "cell_type": "markdown",
   "metadata": {},
   "source": [
    "**Sample Document**\n",
    "Following example shows the document structure of a blog site, which is simply a comma separated key value pair."
   ]
  },
  {
   "cell_type": "code",
   "execution_count": 6,
   "metadata": {},
   "outputs": [],
   "source": [
    "post = {\"author\": \"Mike\",\n",
    "        \"text\": \"My first blog post!\",\n",
    "        \"tags\": [\"mongodb\", \"python\", \"pymongo\"],\n",
    "        \"date\": datetime.datetime.utcnow()}"
   ]
  },
  {
   "cell_type": "code",
   "execution_count": 7,
   "metadata": {},
   "outputs": [
    {
     "data": {
      "text/plain": [
       "ObjectId('628de76d9c628e0a3f69ff33')"
      ]
     },
     "execution_count": 7,
     "metadata": {},
     "output_type": "execute_result"
    }
   ],
   "source": [
    "posts = db.posts\n",
    "post_id = posts.insert_one(post).inserted_id\n",
    "post_id"
   ]
  },
  {
   "cell_type": "code",
   "execution_count": 9,
   "metadata": {},
   "outputs": [
    {
     "name": "stdout",
     "output_type": "stream",
     "text": [
      "{'_id': ObjectId('628de76d9c628e0a3f69ff33'),\n",
      " 'author': 'Mike',\n",
      " 'date': datetime.datetime(2022, 5, 25, 8, 16, 48, 627000),\n",
      " 'tags': ['mongodb', 'python', 'pymongo'],\n",
      " 'text': 'My first blog post!'}\n"
     ]
    }
   ],
   "source": [
    "import pprint\n",
    "pprint.pprint(posts.find_one())"
   ]
  },
  {
   "cell_type": "code",
   "execution_count": 90,
   "metadata": {},
   "outputs": [],
   "source": [
    "item2 = {\n",
    "    \"title\": \"Python's Requests Library (Guide)\",\n",
    "    \"author\": \"Alex\",\n",
    "    \"contributors\": [\n",
    "        \"Aldren\",\n",
    "        \"Brad\",\n",
    "        \"Joanna\"\n",
    "    ],\n",
    "    \"url\": \"https://realpython.com/python-requests/\"\n",
    "}\n",
    "\n",
    "item3 = {\n",
    "    \"title\": \"Object-Oriented Programming (OOP) in Python 3\",\n",
    "    \"author\": \"David\",\n",
    "    \"contributors\": [\n",
    "        \"Aldren\",\n",
    "        \"Joanna\",\n",
    "        \"Jacob\"\n",
    "    ],\n",
    "    \"url\": \"https://realpython.com/python3-object-oriented-programming/\"\n",
    "}"
   ]
  },
  {
   "cell_type": "code",
   "execution_count": 91,
   "metadata": {},
   "outputs": [
    {
     "ename": "NameError",
     "evalue": "name 'newCollection' is not defined",
     "output_type": "error",
     "traceback": [
      "\u001B[1;31m---------------------------------------------------------------------------\u001B[0m",
      "\u001B[1;31mNameError\u001B[0m                                 Traceback (most recent call last)",
      "Input \u001B[1;32mIn [91]\u001B[0m, in \u001B[0;36m<cell line: 1>\u001B[1;34m()\u001B[0m\n\u001B[1;32m----> 1\u001B[0m new_result \u001B[38;5;241m=\u001B[39m \u001B[43mnewCollection\u001B[49m\u001B[38;5;241m.\u001B[39minsert_many([item2, item3])\n\u001B[0;32m      3\u001B[0m \u001B[38;5;28mprint\u001B[39m(\u001B[38;5;124mf\u001B[39m\u001B[38;5;124m\"\u001B[39m\u001B[38;5;124mMultiple items: \u001B[39m\u001B[38;5;132;01m{\u001B[39;00mnew_result\u001B[38;5;241m.\u001B[39minserted_ids\u001B[38;5;132;01m}\u001B[39;00m\u001B[38;5;124m\"\u001B[39m)\n",
      "\u001B[1;31mNameError\u001B[0m: name 'newCollection' is not defined"
     ]
    }
   ],
   "source": [
    "new_result = newCollection.insert_many([item2, item3])\n",
    "\n",
    "print(f\"Multiple items: {new_result.inserted_ids}\")"
   ]
  },
  {
   "cell_type": "markdown",
   "metadata": {},
   "source": [
    "This is faster and more straightforward than calling `.insert_one()` multiple times. The call to `.insert_many()` takes an iterable of documents and inserts them into the tutorial collection in your rptutorials database."
   ]
  },
  {
   "cell_type": "markdown",
   "metadata": {},
   "source": [
    "***Querying for More Than One Document*** \n",
    "\n",
    "To retrieve documents from a collection, you can use `.find()`. Without arguments, `.find()` returns a Cursor object that yields the documents in the collection on demand:"
   ]
  },
  {
   "cell_type": "code",
   "execution_count": 39,
   "metadata": {},
   "outputs": [
    {
     "name": "stdout",
     "output_type": "stream",
     "text": [
      "{'_id': ObjectId('6220899c61cdcb1411c5421d'), 'title': 'Working With JSON Data in Python', 'author': 'Lucas', 'contributors': ['Aldren', 'Dan', 'Joanna'], 'url': 'https://realpython.com/python-json/'}\n",
      "{'_id': ObjectId('622089ca61cdcb1411c5421e'), 'title': 'Working With JSON Data in Python', 'author': 'Lucas', 'contributors': ['Aldrenn', 'Dan', 'Joanna'], 'url': 'https://realpython.com/python-json/'}\n",
      "{'_id': ObjectId('62208aa561cdcb1411c5421f'), 'title': \"Python's Requests Library (Guide)\", 'author': 'Alex', 'contributors': ['Aldren', 'Brad', 'Joanna'], 'url': 'https://realpython.com/python-requests/'}\n",
      "{'_id': ObjectId('62208aa561cdcb1411c54220'), 'title': 'Object-Oriented Programming (OOP) in Python 3', 'author': 'David', 'contributors': ['Aldren', 'Joanna', 'Jacob'], 'url': 'https://realpython.com/python3-object-oriented-programming/'}\n"
     ]
    }
   ],
   "source": [
    "for doc in newCollection.find():\n",
    "    print(doc)"
   ]
  },
  {
   "cell_type": "markdown",
   "metadata": {},
   "source": [
    "***Querying for One Document*** \n",
    "\n",
    "You can also use `.find_one()` to retrieve a single document."
   ]
  },
  {
   "cell_type": "code",
   "execution_count": 36,
   "metadata": {},
   "outputs": [
    {
     "name": "stdout",
     "output_type": "stream",
     "text": [
      "{'_id': ObjectId('622209d6d58b2d12b2950138'), 'title': \"Python's Requests Library (Guide)\", 'author': 'Alex', 'contributors': ['Aldren', 'Brad', 'Joanna'], 'url': 'https://realpython.com/python-requests/'}\n"
     ]
    }
   ],
   "source": [
    "jon_item = newCollection.find_one({\"author\": \"Alex\"})\n",
    "print(jon_item)"
   ]
  },
  {
   "cell_type": "markdown",
   "metadata": {},
   "source": [
    "In this kind of situation, you should keep your connection alive and only close it before exiting the application to clear all the acquired resources."
   ]
  },
  {
   "cell_type": "markdown",
   "metadata": {},
   "source": [
    "***Counting***\n",
    "\n",
    "If we just want to know how many documents match a query we can perform a `count_documents()` operation instead of a full query. We can get a count of all of the documents in a collection:"
   ]
  },
  {
   "cell_type": "code",
   "execution_count": 37,
   "metadata": {},
   "outputs": [
    {
     "data": {
      "text/plain": [
       "4"
      ]
     },
     "execution_count": 37,
     "metadata": {},
     "output_type": "execute_result"
    }
   ],
   "source": [
    "newCollection.count_documents({})"
   ]
  },
  {
   "cell_type": "markdown",
   "metadata": {},
   "source": [
    "***Aggregation Examples***\n",
    "\n",
    "There are several methods of performing aggregations in MongoDB. These examples cover the new aggregation framework, using map reduce and using the group method."
   ]
  },
  {
   "cell_type": "markdown",
   "metadata": {},
   "source": [
    "create a sample collection named inventory with the following document:"
   ]
  },
  {
   "cell_type": "code",
   "execution_count": 99,
   "metadata": {},
   "outputs": [
    {
     "ename": "BulkWriteError",
     "evalue": "batch op errors occurred, full error: {'writeErrors': [{'index': 0, 'code': 11000, 'keyPattern': {'_id': 1}, 'keyValue': {'_id': 2}, 'errmsg': 'E11000 duplicate key error collection: database_1.inventory index: _id_ dup key: { _id: 2 }', 'op': {'_id': 2, 'item': 'ABC1', 'sizes': ['S', 'M', 'L']}}], 'writeConcernErrors': [], 'nInserted': 0, 'nUpserted': 0, 'nMatched': 0, 'nModified': 0, 'nRemoved': 0, 'upserted': []}",
     "output_type": "error",
     "traceback": [
      "\u001B[1;31m---------------------------------------------------------------------------\u001B[0m",
      "\u001B[1;31mBulkWriteError\u001B[0m                            Traceback (most recent call last)",
      "Input \u001B[1;32mIn [99]\u001B[0m, in \u001B[0;36m<cell line: 3>\u001B[1;34m()\u001B[0m\n\u001B[0;32m      1\u001B[0m \u001B[38;5;28;01mfrom\u001B[39;00m \u001B[38;5;21;01mpymongo\u001B[39;00m \u001B[38;5;28;01mimport\u001B[39;00m MongoClient\n\u001B[0;32m      2\u001B[0m db \u001B[38;5;241m=\u001B[39m MongoClient()\u001B[38;5;241m.\u001B[39mdatabase_1\n\u001B[1;32m----> 3\u001B[0m \u001B[43mdb\u001B[49m\u001B[38;5;241;43m.\u001B[39;49m\u001B[43minventory\u001B[49m\u001B[38;5;241;43m.\u001B[39;49m\u001B[43minsert_many\u001B[49m\u001B[43m(\u001B[49m\u001B[43m[\u001B[49m\u001B[43m{\u001B[49m\u001B[38;5;124;43m\"\u001B[39;49m\u001B[38;5;124;43m_id\u001B[39;49m\u001B[38;5;124;43m\"\u001B[39;49m\u001B[43m \u001B[49m\u001B[43m:\u001B[49m\u001B[43m \u001B[49m\u001B[38;5;241;43m2\u001B[39;49m\u001B[43m,\u001B[49m\u001B[43m \u001B[49m\u001B[38;5;124;43m\"\u001B[39;49m\u001B[38;5;124;43mitem\u001B[39;49m\u001B[38;5;124;43m\"\u001B[39;49m\u001B[43m \u001B[49m\u001B[43m:\u001B[49m\u001B[43m \u001B[49m\u001B[38;5;124;43m\"\u001B[39;49m\u001B[38;5;124;43mABC1\u001B[39;49m\u001B[38;5;124;43m\"\u001B[39;49m\u001B[43m,\u001B[49m\u001B[43m \u001B[49m\u001B[38;5;124;43m\"\u001B[39;49m\u001B[38;5;124;43msizes\u001B[39;49m\u001B[38;5;124;43m\"\u001B[39;49m\u001B[43m:\u001B[49m\u001B[43m \u001B[49m\u001B[43m[\u001B[49m\u001B[43m \u001B[49m\u001B[38;5;124;43m\"\u001B[39;49m\u001B[38;5;124;43mS\u001B[39;49m\u001B[38;5;124;43m\"\u001B[39;49m\u001B[43m,\u001B[49m\u001B[43m \u001B[49m\u001B[38;5;124;43m\"\u001B[39;49m\u001B[38;5;124;43mM\u001B[39;49m\u001B[38;5;124;43m\"\u001B[39;49m\u001B[43m,\u001B[49m\u001B[43m \u001B[49m\u001B[38;5;124;43m\"\u001B[39;49m\u001B[38;5;124;43mL\u001B[39;49m\u001B[38;5;124;43m\"\u001B[39;49m\u001B[43m]\u001B[49m\u001B[43m}\u001B[49m\u001B[43m]\u001B[49m\u001B[43m)\u001B[49m\n",
      "File \u001B[1;32md:\\users\\rezaz\\pycharmprojects\\bigdata_introduction\\venv\\lib\\site-packages\\pymongo\\collection.py:589\u001B[0m, in \u001B[0;36mCollection.insert_many\u001B[1;34m(self, documents, ordered, bypass_document_validation, session)\u001B[0m\n\u001B[0;32m    587\u001B[0m blk \u001B[38;5;241m=\u001B[39m _Bulk(\u001B[38;5;28mself\u001B[39m, ordered, bypass_document_validation)\n\u001B[0;32m    588\u001B[0m blk\u001B[38;5;241m.\u001B[39mops \u001B[38;5;241m=\u001B[39m [doc \u001B[38;5;28;01mfor\u001B[39;00m doc \u001B[38;5;129;01min\u001B[39;00m gen()]\n\u001B[1;32m--> 589\u001B[0m \u001B[43mblk\u001B[49m\u001B[38;5;241;43m.\u001B[39;49m\u001B[43mexecute\u001B[49m\u001B[43m(\u001B[49m\u001B[43mwrite_concern\u001B[49m\u001B[43m,\u001B[49m\u001B[43m \u001B[49m\u001B[43msession\u001B[49m\u001B[38;5;241;43m=\u001B[39;49m\u001B[43msession\u001B[49m\u001B[43m)\u001B[49m\n\u001B[0;32m    590\u001B[0m \u001B[38;5;28;01mreturn\u001B[39;00m InsertManyResult(inserted_ids, write_concern\u001B[38;5;241m.\u001B[39macknowledged)\n",
      "File \u001B[1;32md:\\users\\rezaz\\pycharmprojects\\bigdata_introduction\\venv\\lib\\site-packages\\pymongo\\bulk.py:448\u001B[0m, in \u001B[0;36m_Bulk.execute\u001B[1;34m(self, write_concern, session)\u001B[0m\n\u001B[0;32m    446\u001B[0m         \u001B[38;5;28mself\u001B[39m\u001B[38;5;241m.\u001B[39mexecute_no_results(sock_info, generator)\n\u001B[0;32m    447\u001B[0m \u001B[38;5;28;01melse\u001B[39;00m:\n\u001B[1;32m--> 448\u001B[0m     \u001B[38;5;28;01mreturn\u001B[39;00m \u001B[38;5;28;43mself\u001B[39;49m\u001B[38;5;241;43m.\u001B[39;49m\u001B[43mexecute_command\u001B[49m\u001B[43m(\u001B[49m\u001B[43mgenerator\u001B[49m\u001B[43m,\u001B[49m\u001B[43m \u001B[49m\u001B[43mwrite_concern\u001B[49m\u001B[43m,\u001B[49m\u001B[43m \u001B[49m\u001B[43msession\u001B[49m\u001B[43m)\u001B[49m\n",
      "File \u001B[1;32md:\\users\\rezaz\\pycharmprojects\\bigdata_introduction\\venv\\lib\\site-packages\\pymongo\\bulk.py:348\u001B[0m, in \u001B[0;36m_Bulk.execute_command\u001B[1;34m(self, generator, write_concern, session)\u001B[0m\n\u001B[0;32m    344\u001B[0m     client\u001B[38;5;241m.\u001B[39m_retry_with_session(\n\u001B[0;32m    345\u001B[0m         \u001B[38;5;28mself\u001B[39m\u001B[38;5;241m.\u001B[39mis_retryable, retryable_bulk, s, \u001B[38;5;28mself\u001B[39m)\n\u001B[0;32m    347\u001B[0m \u001B[38;5;28;01mif\u001B[39;00m full_result[\u001B[38;5;124m\"\u001B[39m\u001B[38;5;124mwriteErrors\u001B[39m\u001B[38;5;124m\"\u001B[39m] \u001B[38;5;129;01mor\u001B[39;00m full_result[\u001B[38;5;124m\"\u001B[39m\u001B[38;5;124mwriteConcernErrors\u001B[39m\u001B[38;5;124m\"\u001B[39m]:\n\u001B[1;32m--> 348\u001B[0m     \u001B[43m_raise_bulk_write_error\u001B[49m\u001B[43m(\u001B[49m\u001B[43mfull_result\u001B[49m\u001B[43m)\u001B[49m\n\u001B[0;32m    349\u001B[0m \u001B[38;5;28;01mreturn\u001B[39;00m full_result\n",
      "File \u001B[1;32md:\\users\\rezaz\\pycharmprojects\\bigdata_introduction\\venv\\lib\\site-packages\\pymongo\\bulk.py:133\u001B[0m, in \u001B[0;36m_raise_bulk_write_error\u001B[1;34m(full_result)\u001B[0m\n\u001B[0;32m    130\u001B[0m \u001B[38;5;28;01mif\u001B[39;00m full_result[\u001B[38;5;124m\"\u001B[39m\u001B[38;5;124mwriteErrors\u001B[39m\u001B[38;5;124m\"\u001B[39m]:\n\u001B[0;32m    131\u001B[0m     full_result[\u001B[38;5;124m\"\u001B[39m\u001B[38;5;124mwriteErrors\u001B[39m\u001B[38;5;124m\"\u001B[39m]\u001B[38;5;241m.\u001B[39msort(\n\u001B[0;32m    132\u001B[0m         key\u001B[38;5;241m=\u001B[39m\u001B[38;5;28;01mlambda\u001B[39;00m error: error[\u001B[38;5;124m\"\u001B[39m\u001B[38;5;124mindex\u001B[39m\u001B[38;5;124m\"\u001B[39m])\n\u001B[1;32m--> 133\u001B[0m \u001B[38;5;28;01mraise\u001B[39;00m BulkWriteError(full_result)\n",
      "\u001B[1;31mBulkWriteError\u001B[0m: batch op errors occurred, full error: {'writeErrors': [{'index': 0, 'code': 11000, 'keyPattern': {'_id': 1}, 'keyValue': {'_id': 2}, 'errmsg': 'E11000 duplicate key error collection: database_1.inventory index: _id_ dup key: { _id: 2 }', 'op': {'_id': 2, 'item': 'ABC1', 'sizes': ['S', 'M', 'L']}}], 'writeConcernErrors': [], 'nInserted': 0, 'nUpserted': 0, 'nMatched': 0, 'nModified': 0, 'nRemoved': 0, 'upserted': []}"
     ]
    }
   ],
   "source": [
    "from pymongo import MongoClient\n",
    "db = MongoClient().database_1\n",
    "db.inventory.insert_one({\"_id\" : 2, \"item\" : \"ABC1\", \"sizes\": [ \"S\", \"M\", \"L\"]})"
   ]
  },
  {
   "cell_type": "markdown",
   "metadata": {},
   "source": [
    "The following aggregation uses the $unwind stage to output a document for each element in the sizes array:"
   ]
  },
  {
   "cell_type": "code",
   "execution_count": 24,
   "metadata": {},
   "outputs": [
    {
     "name": "stdout",
     "output_type": "stream",
     "text": [
      "[{'_id': 2, 'item': 'ABC1', 'sizes': 'S'}, {'_id': 2, 'item': 'ABC1', 'sizes': 'M'}, {'_id': 2, 'item': 'ABC1', 'sizes': 'L'}]\n"
     ]
    }
   ],
   "source": [
    "result = db.inventory.aggregate( [ { \"$unwind\": \"$sizes\" } ] )\n",
    "print(list(result))"
   ]
  },
  {
   "cell_type": "code",
   "execution_count": null,
   "metadata": {},
   "outputs": [],
   "source": []
  },
  {
   "cell_type": "code",
   "execution_count": null,
   "metadata": {},
   "outputs": [],
   "source": []
  },
  {
   "cell_type": "code",
   "execution_count": null,
   "metadata": {},
   "outputs": [],
   "source": []
  },
  {
   "cell_type": "code",
   "execution_count": 43,
   "metadata": {},
   "outputs": [
    {
     "data": {
      "text/plain": [
       "[ObjectId('6222128bd58b2d12b295013b'),\n",
       " ObjectId('6222128bd58b2d12b295013c'),\n",
       " ObjectId('6222128bd58b2d12b295013d'),\n",
       " ObjectId('6222128bd58b2d12b295013e')]"
      ]
     },
     "execution_count": 43,
     "metadata": {},
     "output_type": "execute_result"
    }
   ],
   "source": [
    "from pymongo import MongoClient\n",
    "db = MongoClient().aggregation_example\n",
    "result = db.things.insert_many([{\"x\": 1, \"tags\": [\"dog\", \"cat\"]},\n",
    "                                {\"x\": 2, \"tags\": [\"cat\"]},\n",
    "                                {\"x\": 2, \"tags\": [\"mouse\", \"cat\", \"dog\"]},\n",
    "                                {\"x\": 3, \"tags\": []}])\n",
    "result.inserted_ids"
   ]
  },
  {
   "cell_type": "markdown",
   "metadata": {},
   "source": [
    "As python dictionaries don’t maintain order you should use `SON` or `collections.OrderedDict` where explicit ordering is required eg `“$sort”`:"
   ]
  },
  {
   "cell_type": "code",
   "execution_count": 53,
   "metadata": {},
   "outputs": [],
   "source": [
    "from bson.son import SON\n",
    "pipeline = [\n",
    "    {\"$unwind\": \"$tags\"},\n",
    "    {\"$group\": {\"_id\": \"$tags\", \"count\": {\"$sum\": 1}}},\n",
    "    {\"$sort\": SON([(\"count\", -1), (\"_id\", -1)])}\n",
    "]\n",
    "result = db.things.aggregate( pipeline )"
   ]
  },
  {
   "cell_type": "code",
   "execution_count": 54,
   "metadata": {},
   "outputs": [
    {
     "name": "stdout",
     "output_type": "stream",
     "text": [
      "[{'_id': 'cat', 'count': 3}, {'_id': 'dog', 'count': 2}, {'_id': 'mouse', 'count': 1}]\n"
     ]
    }
   ],
   "source": [
    "print(list(result))"
   ]
  },
  {
   "cell_type": "markdown",
   "metadata": {},
   "source": [
    "To run an explain plan for this aggregation use the `command()` method:"
   ]
  },
  {
   "cell_type": "code",
   "execution_count": 55,
   "metadata": {},
   "outputs": [
    {
     "data": {
      "text/plain": [
       "{'explainVersion': '1',\n",
       " 'stages': [{'$cursor': {'queryPlanner': {'namespace': 'aggregation_example.things',\n",
       "     'indexFilterSet': False,\n",
       "     'parsedQuery': {},\n",
       "     'queryHash': 'EE638FFC',\n",
       "     'planCacheKey': '92B1C2A0',\n",
       "     'maxIndexedOrSolutionsReached': False,\n",
       "     'maxIndexedAndSolutionsReached': False,\n",
       "     'maxScansToExplodeReached': False,\n",
       "     'winningPlan': {'stage': 'PROJECTION_SIMPLE',\n",
       "      'transformBy': {'tags': 1, '_id': 0},\n",
       "      'inputStage': {'stage': 'COLLSCAN', 'direction': 'forward'}},\n",
       "     'rejectedPlans': []}}},\n",
       "  {'$unwind': {'path': '$tags'}},\n",
       "  {'$group': {'_id': '$tags', 'count': {'$sum': {'$const': 1}}}},\n",
       "  {'$sort': {'sortKey': {'count': -1, '_id': -1}}}],\n",
       " 'serverInfo': {'host': 'LAPTOP-86L5CLLU',\n",
       "  'port': 27017,\n",
       "  'version': '5.0.6',\n",
       "  'gitVersion': '212a8dbb47f07427dae194a9c75baec1d81d9259'},\n",
       " 'serverParameters': {'internalQueryFacetBufferSizeBytes': 104857600,\n",
       "  'internalQueryFacetMaxOutputDocSizeBytes': 104857600,\n",
       "  'internalLookupStageIntermediateDocumentMaxSizeBytes': 104857600,\n",
       "  'internalDocumentSourceGroupMaxMemoryBytes': 104857600,\n",
       "  'internalQueryMaxBlockingSortMemoryUsageBytes': 104857600,\n",
       "  'internalQueryProhibitBlockingMergeOnMongoS': 0,\n",
       "  'internalQueryMaxAddToSetBytes': 104857600,\n",
       "  'internalDocumentSourceSetWindowFieldsMaxMemoryBytes': 104857600},\n",
       " 'command': {'aggregate': 'things',\n",
       "  'pipeline': [{'$unwind': '$tags'},\n",
       "   {'$group': {'_id': '$tags', 'count': {'$sum': 1}}},\n",
       "   {'$sort': {'count': -1, '_id': -1}}],\n",
       "  'explain': True,\n",
       "  'lsid': {'id': Binary(b'\\xfeU\\xb9\\xc7U\\xeaKJ\\x85js=\\x14\\xf6FN', 4)},\n",
       "  '$db': 'aggregation_example',\n",
       "  '$readPreference': {'mode': 'primaryPreferred'}},\n",
       " 'ok': 1.0}"
      ]
     },
     "execution_count": 55,
     "metadata": {},
     "output_type": "execute_result"
    }
   ],
   "source": [
    "db.command('aggregate', 'things', pipeline=pipeline, explain=True)"
   ]
  },
  {
   "cell_type": "code",
   "execution_count": 42,
   "metadata": {},
   "outputs": [],
   "source": [
    "client.close()"
   ]
  },
  {
   "cell_type": "code",
   "execution_count": 74,
   "metadata": {},
   "outputs": [],
   "source": [
    "import pymongo\n",
    "client = pymongo.MongoClient()\n",
    "db = client['single_db']\n",
    "collection = db['stock']"
   ]
  },
  {
   "cell_type": "code",
   "execution_count": 88,
   "metadata": {},
   "outputs": [],
   "source": [
    "items = [\n",
    "    {\n",
    "     \"_id\": 1,\n",
    "     \"title\": \"x1\",\n",
    "     \"author\": \"y1\",\n",
    "     \"likes\": 10\n",
    "    },\n",
    "    {\n",
    "     \"_id\": 2,\n",
    "     \"title\": \"x2\",\n",
    "     \"author\": \"y1\",\n",
    "     \"likes\": 20\n",
    "    },\n",
    "    {\n",
    "     \"_id\": 3,\n",
    "     \"title\": \"x3\",\n",
    "     \"author\": \"y3\",\n",
    "     \"likes\": 30\n",
    "    }\n",
    "]\n"
   ]
  },
  {
   "cell_type": "code",
   "execution_count": 89,
   "metadata": {},
   "outputs": [
    {
     "ename": "BulkWriteError",
     "evalue": "batch op errors occurred, full error: {'writeErrors': [{'index': 0, 'code': 11000, 'keyPattern': {'_id': 1}, 'keyValue': {'_id': 1}, 'errmsg': 'E11000 duplicate key error collection: single_db.stock index: _id_ dup key: { _id: 1 }', 'op': {'_id': 1, 'title': 'x1', 'author': 'y1', 'likes': 10}}], 'writeConcernErrors': [], 'nInserted': 0, 'nUpserted': 0, 'nMatched': 0, 'nModified': 0, 'nRemoved': 0, 'upserted': []}",
     "output_type": "error",
     "traceback": [
      "\u001B[1;31m---------------------------------------------------------------------------\u001B[0m",
      "\u001B[1;31mBulkWriteError\u001B[0m                            Traceback (most recent call last)",
      "Input \u001B[1;32mIn [89]\u001B[0m, in \u001B[0;36m<cell line: 1>\u001B[1;34m()\u001B[0m\n\u001B[1;32m----> 1\u001B[0m \u001B[43mcollection\u001B[49m\u001B[38;5;241;43m.\u001B[39;49m\u001B[43minsert_many\u001B[49m\u001B[43m(\u001B[49m\u001B[43mitems\u001B[49m\u001B[43m)\u001B[49m\n",
      "File \u001B[1;32md:\\users\\rezaz\\pycharmprojects\\bigdata_introduction\\venv\\lib\\site-packages\\pymongo\\collection.py:589\u001B[0m, in \u001B[0;36mCollection.insert_many\u001B[1;34m(self, documents, ordered, bypass_document_validation, session)\u001B[0m\n\u001B[0;32m    587\u001B[0m blk \u001B[38;5;241m=\u001B[39m _Bulk(\u001B[38;5;28mself\u001B[39m, ordered, bypass_document_validation)\n\u001B[0;32m    588\u001B[0m blk\u001B[38;5;241m.\u001B[39mops \u001B[38;5;241m=\u001B[39m [doc \u001B[38;5;28;01mfor\u001B[39;00m doc \u001B[38;5;129;01min\u001B[39;00m gen()]\n\u001B[1;32m--> 589\u001B[0m \u001B[43mblk\u001B[49m\u001B[38;5;241;43m.\u001B[39;49m\u001B[43mexecute\u001B[49m\u001B[43m(\u001B[49m\u001B[43mwrite_concern\u001B[49m\u001B[43m,\u001B[49m\u001B[43m \u001B[49m\u001B[43msession\u001B[49m\u001B[38;5;241;43m=\u001B[39;49m\u001B[43msession\u001B[49m\u001B[43m)\u001B[49m\n\u001B[0;32m    590\u001B[0m \u001B[38;5;28;01mreturn\u001B[39;00m InsertManyResult(inserted_ids, write_concern\u001B[38;5;241m.\u001B[39macknowledged)\n",
      "File \u001B[1;32md:\\users\\rezaz\\pycharmprojects\\bigdata_introduction\\venv\\lib\\site-packages\\pymongo\\bulk.py:448\u001B[0m, in \u001B[0;36m_Bulk.execute\u001B[1;34m(self, write_concern, session)\u001B[0m\n\u001B[0;32m    446\u001B[0m         \u001B[38;5;28mself\u001B[39m\u001B[38;5;241m.\u001B[39mexecute_no_results(sock_info, generator)\n\u001B[0;32m    447\u001B[0m \u001B[38;5;28;01melse\u001B[39;00m:\n\u001B[1;32m--> 448\u001B[0m     \u001B[38;5;28;01mreturn\u001B[39;00m \u001B[38;5;28;43mself\u001B[39;49m\u001B[38;5;241;43m.\u001B[39;49m\u001B[43mexecute_command\u001B[49m\u001B[43m(\u001B[49m\u001B[43mgenerator\u001B[49m\u001B[43m,\u001B[49m\u001B[43m \u001B[49m\u001B[43mwrite_concern\u001B[49m\u001B[43m,\u001B[49m\u001B[43m \u001B[49m\u001B[43msession\u001B[49m\u001B[43m)\u001B[49m\n",
      "File \u001B[1;32md:\\users\\rezaz\\pycharmprojects\\bigdata_introduction\\venv\\lib\\site-packages\\pymongo\\bulk.py:348\u001B[0m, in \u001B[0;36m_Bulk.execute_command\u001B[1;34m(self, generator, write_concern, session)\u001B[0m\n\u001B[0;32m    344\u001B[0m     client\u001B[38;5;241m.\u001B[39m_retry_with_session(\n\u001B[0;32m    345\u001B[0m         \u001B[38;5;28mself\u001B[39m\u001B[38;5;241m.\u001B[39mis_retryable, retryable_bulk, s, \u001B[38;5;28mself\u001B[39m)\n\u001B[0;32m    347\u001B[0m \u001B[38;5;28;01mif\u001B[39;00m full_result[\u001B[38;5;124m\"\u001B[39m\u001B[38;5;124mwriteErrors\u001B[39m\u001B[38;5;124m\"\u001B[39m] \u001B[38;5;129;01mor\u001B[39;00m full_result[\u001B[38;5;124m\"\u001B[39m\u001B[38;5;124mwriteConcernErrors\u001B[39m\u001B[38;5;124m\"\u001B[39m]:\n\u001B[1;32m--> 348\u001B[0m     \u001B[43m_raise_bulk_write_error\u001B[49m\u001B[43m(\u001B[49m\u001B[43mfull_result\u001B[49m\u001B[43m)\u001B[49m\n\u001B[0;32m    349\u001B[0m \u001B[38;5;28;01mreturn\u001B[39;00m full_result\n",
      "File \u001B[1;32md:\\users\\rezaz\\pycharmprojects\\bigdata_introduction\\venv\\lib\\site-packages\\pymongo\\bulk.py:133\u001B[0m, in \u001B[0;36m_raise_bulk_write_error\u001B[1;34m(full_result)\u001B[0m\n\u001B[0;32m    130\u001B[0m \u001B[38;5;28;01mif\u001B[39;00m full_result[\u001B[38;5;124m\"\u001B[39m\u001B[38;5;124mwriteErrors\u001B[39m\u001B[38;5;124m\"\u001B[39m]:\n\u001B[0;32m    131\u001B[0m     full_result[\u001B[38;5;124m\"\u001B[39m\u001B[38;5;124mwriteErrors\u001B[39m\u001B[38;5;124m\"\u001B[39m]\u001B[38;5;241m.\u001B[39msort(\n\u001B[0;32m    132\u001B[0m         key\u001B[38;5;241m=\u001B[39m\u001B[38;5;28;01mlambda\u001B[39;00m error: error[\u001B[38;5;124m\"\u001B[39m\u001B[38;5;124mindex\u001B[39m\u001B[38;5;124m\"\u001B[39m])\n\u001B[1;32m--> 133\u001B[0m \u001B[38;5;28;01mraise\u001B[39;00m BulkWriteError(full_result)\n",
      "\u001B[1;31mBulkWriteError\u001B[0m: batch op errors occurred, full error: {'writeErrors': [{'index': 0, 'code': 11000, 'keyPattern': {'_id': 1}, 'keyValue': {'_id': 1}, 'errmsg': 'E11000 duplicate key error collection: single_db.stock index: _id_ dup key: { _id: 1 }', 'op': {'_id': 1, 'title': 'x1', 'author': 'y1', 'likes': 10}}], 'writeConcernErrors': [], 'nInserted': 0, 'nUpserted': 0, 'nMatched': 0, 'nModified': 0, 'nRemoved': 0, 'upserted': []}"
     ]
    }
   ],
   "source": [
    "collection.insert_many(items)"
   ]
  },
  {
   "cell_type": "code",
   "execution_count": 107,
   "metadata": {},
   "outputs": [
    {
     "name": "stdout",
     "output_type": "stream",
     "text": [
      "[{'_id': 'y3', 'count': 270}, {'_id': 'y1', 'count': 260}, {'_id': 'y2', 'count': 20}]\n"
     ]
    },
    {
     "data": {
      "text/plain": [
       "{'explainVersion': '1',\n",
       " 'stages': [{'$cursor': {'queryPlanner': {'namespace': 'database_1.collection',\n",
       "     'indexFilterSet': False,\n",
       "     'parsedQuery': {},\n",
       "     'maxIndexedOrSolutionsReached': False,\n",
       "     'maxIndexedAndSolutionsReached': False,\n",
       "     'maxScansToExplodeReached': False,\n",
       "     'winningPlan': {'stage': 'EOF'},\n",
       "     'rejectedPlans': []}}},\n",
       "  {'$group': {'_id': '$author', 'count': {'$sum': '$likes'}}}],\n",
       " 'serverInfo': {'host': 'LAPTOP-86L5CLLU',\n",
       "  'port': 27017,\n",
       "  'version': '5.0.6',\n",
       "  'gitVersion': '212a8dbb47f07427dae194a9c75baec1d81d9259'},\n",
       " 'serverParameters': {'internalQueryFacetBufferSizeBytes': 104857600,\n",
       "  'internalQueryFacetMaxOutputDocSizeBytes': 104857600,\n",
       "  'internalLookupStageIntermediateDocumentMaxSizeBytes': 104857600,\n",
       "  'internalDocumentSourceGroupMaxMemoryBytes': 104857600,\n",
       "  'internalQueryMaxBlockingSortMemoryUsageBytes': 104857600,\n",
       "  'internalQueryProhibitBlockingMergeOnMongoS': 0,\n",
       "  'internalQueryMaxAddToSetBytes': 104857600,\n",
       "  'internalDocumentSourceSetWindowFieldsMaxMemoryBytes': 104857600},\n",
       " 'command': {'aggregate': 'collection',\n",
       "  'pipeline': [{'$group': {'_id': '$author', 'count': {'$sum': '$likes'}}}],\n",
       "  'explain': True,\n",
       "  'lsid': {'id': Binary(b'\\x9b\\xb2S\\xfb IJ\\xf3\\x91\\xf3h\\xf2\\ry\\xb5\\x0e', 4)},\n",
       "  '$db': 'database_1',\n",
       "  '$readPreference': {'mode': 'primaryPreferred'}},\n",
       " 'ok': 1.0}"
      ]
     },
     "execution_count": 107,
     "metadata": {},
     "output_type": "execute_result"
    }
   ],
   "source": [
    "pipeline = [\n",
    "    {\"$group\": {\"_id\": \"$author\", \"count\": {\"$sum\": \"$likes\"}}},\n",
    "]\n",
    "agg = collection.aggregate(pipeline)\n",
    "print(list(agg))\n",
    "db.command('aggregate', 'collection', pipeline=pipeline, explain=True)"
   ]
  },
  {
   "cell_type": "code",
   "execution_count": 101,
   "metadata": {},
   "outputs": [],
   "source": [
    "# spark = SparkSession.builder.appName(\"pyspark-notebook2\")\\\n",
    "# .master(\"localhost\")\\\n",
    "# .config(\"spark.executor.memory\", \"1g\")\\\n",
    "# .config(\"spark.mongodb.input.uri\",\"mongodb://mongo1:27017,mongo2:27018,mongo3:27019/Stocks.Source?replicaSet=rs0\")\\\n",
    "# .config(\"spark.mongodb.output.uri\",\"mongodb://mongo1:27017,mongo2:27018,mongo3:27019/Stocks.Source?replicaSet=rs0\")\\\n",
    "# .config(\"spark.jars.packages\", \"org.mongodb.spark:mongo-spark-connector_2.12:3.0.0\")\\\n",
    "# .getOrCreate()"
   ]
  },
  {
   "cell_type": "code",
   "execution_count": null,
   "metadata": {},
   "outputs": [],
   "source": []
  }
 ],
 "metadata": {
  "kernelspec": {
   "display_name": "Python 3 (ipykernel)",
   "language": "python",
   "name": "python3"
  },
  "language_info": {
   "codemirror_mode": {
    "name": "ipython",
    "version": 3
   },
   "file_extension": ".py",
   "mimetype": "text/x-python",
   "name": "python",
   "nbconvert_exporter": "python",
   "pygments_lexer": "ipython3",
   "version": "3.9.6"
  }
 },
 "nbformat": 4,
 "nbformat_minor": 4
}