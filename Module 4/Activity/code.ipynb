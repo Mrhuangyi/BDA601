{
 "cells": [
  {
   "cell_type": "code",
   "execution_count": 1,
   "metadata": {},
   "outputs": [
    {
     "name": "stdout",
     "output_type": "stream",
     "text": [
      "Requirement already satisfied: pyspark in d:\\users\\rezaz\\pycharmprojects\\shazisaremi\\bda601\\venv\\lib\\site-packages (3.2.1)\n",
      "Requirement already satisfied: py4j==0.10.9.3 in d:\\users\\rezaz\\pycharmprojects\\shazisaremi\\bda601\\venv\\lib\\site-packages (from pyspark) (0.10.9.3)\n"
     ]
    },
    {
     "name": "stderr",
     "output_type": "stream",
     "text": [
      "WARNING: There was an error checking the latest version of pip.\n"
     ]
    }
   ],
   "source": [
    "!pip install pyspark"
   ]
  },
  {
   "cell_type": "code",
   "execution_count": 46,
   "metadata": {},
   "outputs": [],
   "source": [
    "#import necessary packages\n",
    "from pyspark.sql import SparkSession\n",
    "\n",
    "#create spark context\n",
    "sqlCtx = SparkSession.builder.getOrCreate()\n",
    "\n",
    "from pyspark.sql.types import StringType\n",
    "from pyspark.sql.types import IntegerType"
   ]
  },
  {
   "cell_type": "markdown",
   "metadata": {},
   "source": [
    "Load the data from the csv files into DataFrames."
   ]
  },
  {
   "cell_type": "code",
   "execution_count": 17,
   "metadata": {},
   "outputs": [
    {
     "name": "stdout",
     "output_type": "stream",
     "text": [
      "<class 'pyspark.sql.dataframe.DataFrame'>\n"
     ]
    },
    {
     "data": {
      "text/plain": [
       "[('PERSON_ID', 'string'),\n",
       " ('PERSON_TYPE', 'string'),\n",
       " ('CRASH_RECORD_ID', 'string'),\n",
       " ('RD_NO', 'string'),\n",
       " ('VEHICLE_ID', 'string'),\n",
       " ('CRASH_DATE', 'string'),\n",
       " ('SEAT_NO', 'string'),\n",
       " ('CITY', 'string'),\n",
       " ('STATE', 'string'),\n",
       " ('ZIPCODE', 'string'),\n",
       " ('SEX', 'string'),\n",
       " ('AGE', 'string'),\n",
       " ('DRIVERS_LICENSE_STATE', 'string'),\n",
       " ('DRIVERS_LICENSE_CLASS', 'string'),\n",
       " ('SAFETY_EQUIPMENT', 'string'),\n",
       " ('AIRBAG_DEPLOYED', 'string'),\n",
       " ('EJECTION', 'string'),\n",
       " ('INJURY_CLASSIFICATION', 'string'),\n",
       " ('HOSPITAL', 'string'),\n",
       " ('EMS_AGENCY', 'string'),\n",
       " ('EMS_RUN_NO', 'string'),\n",
       " ('DRIVER_ACTION', 'string'),\n",
       " ('DRIVER_VISION', 'string'),\n",
       " ('PHYSICAL_CONDITION', 'string'),\n",
       " ('PEDPEDAL_ACTION', 'string'),\n",
       " ('PEDPEDAL_VISIBILITY', 'string'),\n",
       " ('PEDPEDAL_LOCATION', 'string'),\n",
       " ('BAC_RESULT', 'string'),\n",
       " ('BAC_RESULT VALUE', 'string'),\n",
       " ('CELL_PHONE_USE', 'string')]"
      ]
     },
     "execution_count": 17,
     "metadata": {},
     "output_type": "execute_result"
    }
   ],
   "source": [
    "crashes = sqlCtx.read.option('header','true').csv('data/Traffic_Crashes_-_Crashes.csv')\n",
    "vehicles = sqlCtx.read.option('header','true').csv('data/Traffic_Crashes_-_Vehicles.csv')\n",
    "peoples = sqlCtx.read.option('header','true').csv('data/Traffic_Crashes_-_People.csv')\n",
    "print(type(crashes))\n",
    "peoples.dtypes\n"
   ]
  },
  {
   "cell_type": "markdown",
   "metadata": {},
   "source": [
    "Find the ratio of number of crashes where the person involved was using cell phone to that where the person was not using the cell phone."
   ]
  },
  {
   "cell_type": "code",
   "execution_count": 28,
   "metadata": {
    "tags": []
   },
   "outputs": [
    {
     "name": "stdout",
     "output_type": "stream",
     "text": [
      "+---------------------------------+-----+\n",
      "|DRIVER_ACTION                    |count|\n",
      "+---------------------------------+-----+\n",
      "|EMERGENCY VEHICLE ON CALL        |3    |\n",
      "|TEXTING                          |3    |\n",
      "|CELL PHONE USE OTHER THAN TEXTING|5    |\n",
      "|EVADING POLICE VEHICLE           |5    |\n",
      "|OVERCORRECTED                    |7    |\n",
      "|IMPROPER PARKING                 |16   |\n",
      "|WRONG WAY/SIDE                   |21   |\n",
      "|TOO FAST FOR CONDITIONS          |49   |\n",
      "|IMPROPER LANE CHANGE             |69   |\n",
      "|DISREGARDED CONTROL DEVICES      |73   |\n",
      "|IMPROPER TURN                    |92   |\n",
      "|IMPROPER PASSING                 |99   |\n",
      "|IMPROPER BACKING                 |125  |\n",
      "|null                             |176  |\n",
      "|FOLLOWED TOO CLOSELY             |184  |\n",
      "|OTHER                            |241  |\n",
      "|FAILED TO YIELD                  |291  |\n",
      "|NONE                             |1073 |\n",
      "|UNKNOWN                          |1507 |\n",
      "+---------------------------------+-----+\n",
      "\n"
     ]
    }
   ],
   "source": [
    "peoples.groupby(peoples.DRIVER_ACTION).count().orderBy(\"count\").show(truncate=False)"
   ]
  },
  {
   "cell_type": "code",
   "execution_count": 37,
   "metadata": {},
   "outputs": [
    {
     "name": "stdout",
     "output_type": "stream",
     "text": [
      "+---------------------------------+-----+\n",
      "|DRIVER_ACTION                    |count|\n",
      "+---------------------------------+-----+\n",
      "|CELL PHONE USE OTHER THAN TEXTING|5    |\n",
      "|TEXTING                          |3    |\n",
      "+---------------------------------+-----+\n",
      "\n",
      "crashes that occurs because of phone :  8\n"
     ]
    }
   ],
   "source": [
    "phone = peoples.groupby(peoples.DRIVER_ACTION).count().filter((peoples.DRIVER_ACTION == 'CELL PHONE USE OTHER THAN TEXTING') | (peoples.DRIVER_ACTION == 'TEXTING'))\n",
    "phone.show(truncate=False)\n",
    "phone_crashes = phone.groupBy().sum('count').collect()[0][0]\n",
    "print(\"crashes that occurs because of phone : \", phone_crashes)"
   ]
  },
  {
   "cell_type": "code",
   "execution_count": 38,
   "metadata": {},
   "outputs": [
    {
     "name": "stdout",
     "output_type": "stream",
     "text": [
      "+---------------------------+-----+\n",
      "|DRIVER_ACTION              |count|\n",
      "+---------------------------+-----+\n",
      "|EVADING POLICE VEHICLE     |5    |\n",
      "|FOLLOWED TOO CLOSELY       |184  |\n",
      "|IMPROPER LANE CHANGE       |69   |\n",
      "|IMPROPER PARKING           |16   |\n",
      "|TOO FAST FOR CONDITIONS    |49   |\n",
      "|DISREGARDED CONTROL DEVICES|73   |\n",
      "|IMPROPER TURN              |92   |\n",
      "|IMPROPER BACKING           |125  |\n",
      "|OVERCORRECTED              |7    |\n",
      "|WRONG WAY/SIDE             |21   |\n",
      "|IMPROPER PASSING           |99   |\n",
      "|FAILED TO YIELD            |291  |\n",
      "|EMERGENCY VEHICLE ON CALL  |3    |\n",
      "+---------------------------+-----+\n",
      "\n",
      "crashes that occurs because of other :  1034\n"
     ]
    }
   ],
   "source": [
    "no_phone = peoples.where((peoples.DRIVER_ACTION != \"UNKNOWN\") & (peoples.DRIVER_ACTION != \"NONE\") & (peoples.DRIVER_ACTION != \"OTHER\"))\\\n",
    ".groupby(\"DRIVER_ACTION\").count().filter((peoples.DRIVER_ACTION != 'CELL PHONE USE OTHER THAN TEXTING') & (peoples.DRIVER_ACTION != 'TEXTING'))\n",
    "\n",
    "no_phone.show(truncate=False)\n",
    "no_phone_crashes = no_phone.groupBy().sum('count').collect()[0][0]\n",
    "print(\"crashes that occurs because of other : \", no_phone_crashes)"
   ]
  },
  {
   "cell_type": "code",
   "execution_count": 39,
   "metadata": {
    "tags": []
   },
   "outputs": [
    {
     "name": "stdout",
     "output_type": "stream",
     "text": [
      "ratio:  8/1034 = 0.7736943907156673\n"
     ]
    }
   ],
   "source": [
    "print(\"ratio: \", f\"{phone_crashes}/{no_phone_crashes} =\", 100 * phone_crashes/no_phone_crashes)"
   ]
  },
  {
   "cell_type": "markdown",
   "metadata": {},
   "source": [
    "*bring in package to convert age code to int for sorting"
   ]
  },
  {
   "cell_type": "code",
   "execution_count": 47,
   "metadata": {
    "tags": []
   },
   "outputs": [
    {
     "name": "stdout",
     "output_type": "stream",
     "text": [
      "+----------------+-----+\n",
      "|CAST(AGE AS INT)|count|\n",
      "+----------------+-----+\n",
      "|30              |78   |\n",
      "|25              |77   |\n",
      "|28              |76   |\n",
      "+----------------+-----+\n",
      "\n"
     ]
    }
   ],
   "source": [
    "age = peoples.where((peoples.AGE > 0)).groupby(peoples.AGE.cast(IntegerType())).count().orderBy(\"count\", ascending=False).limit(3)\n",
    "age.show(120, truncate=False)"
   ]
  },
  {
   "cell_type": "code",
   "execution_count": 61,
   "metadata": {},
   "outputs": [
    {
     "name": "stdout",
     "output_type": "stream",
     "text": [
      "+-----------+-----+\n",
      "|CRASH_MONTH|count|\n",
      "+-----------+-----+\n",
      "|5          |1195 |\n",
      "|6          |600  |\n",
      "|4          |493  |\n",
      "|12         |8    |\n",
      "|9          |8    |\n",
      "|10         |7    |\n",
      "|8          |6    |\n",
      "|1          |6    |\n",
      "|3          |6    |\n",
      "|2          |6    |\n",
      "|11         |5    |\n",
      "|7          |3    |\n",
      "|null       |1    |\n",
      "+-----------+-----+\n",
      "\n"
     ]
    }
   ],
   "source": [
    "month = crashes.select((crashes.CRASH_MONTH).cast(IntegerType()))\\\n",
    "                    .groupby(\"CRASH_MONTH\")\\\n",
    "                    .count()\\\n",
    "                    .orderBy(\"count\", ascending=False)\n",
    "month.show(truncate=False)\n"
   ]
  },
  {
   "cell_type": "code",
   "execution_count": 64,
   "metadata": {},
   "outputs": [
    {
     "name": "stdout",
     "output_type": "stream",
     "text": [
      "+-----------------+-----+\n",
      "|CRASH_DAY_OF_WEEK|count|\n",
      "+-----------------+-----+\n",
      "|null             |1    |\n",
      "|6                |148  |\n",
      "|5                |229  |\n",
      "|2                |236  |\n",
      "|1                |274  |\n",
      "|7                |285  |\n",
      "|3                |577  |\n",
      "|4                |594  |\n",
      "+-----------------+-----+\n",
      "\n"
     ]
    }
   ],
   "source": [
    "df = crashes.select((crashes.CRASH_DAY_OF_WEEK).cast(IntegerType()))\\\n",
    "                    .groupby(\"CRASH_DAY_OF_WEEK\")\\\n",
    "                    .count()\\\n",
    "                    .orderBy(\"count\", ascending=True)\n",
    "df.show(truncate=False)"
   ]
  },
  {
   "cell_type": "code",
   "execution_count": null,
   "metadata": {},
   "outputs": [],
   "source": []
  }
 ],
 "metadata": {
  "kernelspec": {
   "display_name": "Python 3 (ipykernel)",
   "language": "python",
   "name": "python3"
  },
  "language_info": {
   "codemirror_mode": {
    "name": "ipython",
    "version": 3
   },
   "file_extension": ".py",
   "mimetype": "text/x-python",
   "name": "python",
   "nbconvert_exporter": "python",
   "pygments_lexer": "ipython3",
   "version": "3.9.6"
  }
 },
 "nbformat": 4,
 "nbformat_minor": 4
}