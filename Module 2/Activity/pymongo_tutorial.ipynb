{
 "cells": [
  {
   "cell_type": "code",
   "execution_count": 18,
   "metadata": {
    "tags": []
   },
   "outputs": [
    {
     "name": "stdout",
     "output_type": "stream",
     "text": [
      "Requirement already satisfied: pymongo in d:\\users\\rezaz\\pycharmprojects\\shazisaremi\\bda601\\venv\\lib\\site-packages (4.1.1)\n"
     ]
    },
    {
     "name": "stderr",
     "output_type": "stream",
     "text": [
      "WARNING: There was an error checking the latest version of pip.\n"
     ]
    }
   ],
   "source": [
    "!pip install pymongo"
   ]
  },
  {
   "cell_type": "code",
   "execution_count": 19,
   "metadata": {
    "jupyter": {
     "outputs_hidden": false
    },
    "pycharm": {
     "name": "#%%\n"
    }
   },
   "outputs": [],
   "source": [
    "from pymongo import MongoClient\n",
    "import datetime"
   ]
  },
  {
   "cell_type": "code",
   "execution_count": 20,
   "metadata": {},
   "outputs": [],
   "source": [
    "client = MongoClient()"
   ]
  },
  {
   "cell_type": "markdown",
   "metadata": {},
   "source": [
    "The above code will connect on the default host and port. We can also specify the host and port explicitly, as follows:"
   ]
  },
  {
   "cell_type": "code",
   "execution_count": 21,
   "metadata": {},
   "outputs": [
    {
     "data": {
      "text/plain": [
       "MongoClient(host=['localhost:27017'], document_class=dict, tz_aware=False, connect=True)"
      ]
     },
     "execution_count": 21,
     "metadata": {},
     "output_type": "execute_result"
    }
   ],
   "source": [
    "client = MongoClient(host=\"localhost\", port=27017)\n",
    "# OR\n",
    "client = MongoClient(\"mongodb://localhost:27017\")\n",
    "\n",
    "client"
   ]
  },
  {
   "cell_type": "markdown",
   "metadata": {},
   "source": [
    "**Getting a Database**\n",
    "Once you have a connected instance of MongoClient, \n",
    "you can access any database managed by the specified MongoDB server. \n",
    "To define which database you want to use, you can use the dot notation:"
   ]
  },
  {
   "cell_type": "code",
   "execution_count": 22,
   "metadata": {},
   "outputs": [
    {
     "data": {
      "text/plain": [
       "Database(MongoClient(host=['localhost:27017'], document_class=dict, tz_aware=False, connect=True), 'test_database')"
      ]
     },
     "execution_count": 22,
     "metadata": {},
     "output_type": "execute_result"
    }
   ],
   "source": [
    "db = client.test_database\n",
    "# OR \n",
    "db = client[\"test_database\"]\n",
    "#This statement is handy when the name of your database isn’t a valid Python identifier.\n",
    "\n",
    "db"
   ]
  },
  {
   "cell_type": "markdown",
   "metadata": {},
   "source": [
    "In this case, **newCollection** is an instance of **Collection** and represents a physical collection of documents in your database. You can insert documents into tutorial by calling `.insert_one()` on it with a document as an argument:"
   ]
  },
  {
   "cell_type": "code",
   "execution_count": 23,
   "metadata": {},
   "outputs": [
    {
     "data": {
      "text/plain": [
       "Collection(Database(MongoClient(host=['localhost:27017'], document_class=dict, tz_aware=False, connect=True), 'test_database'), 'test_collection')"
      ]
     },
     "execution_count": 23,
     "metadata": {},
     "output_type": "execute_result"
    }
   ],
   "source": [
    "collection = db.test_collection\n",
    "#OR\n",
    "collection = db['test_collection']\n",
    "#This statement is handy when the name of your collection isn’t a valid Python identifier.\n",
    "\n",
    "collection"
   ]
  },
  {
   "cell_type": "markdown",
   "metadata": {},
   "source": [
    "**Sample Document**\n",
    "Following example shows the document structure of a blog site, which is simply a comma separated key value pair."
   ]
  },
  {
   "cell_type": "code",
   "execution_count": 24,
   "metadata": {},
   "outputs": [],
   "source": [
    "post = {\"author\": \"Mike\",\n",
    "        \"text\": \"My first blog post!\",\n",
    "        \"tags\": [\"mongodb\", \"python\", \"pymongo\"],\n",
    "        \"date\": datetime.datetime.utcnow()}"
   ]
  },
  {
   "cell_type": "code",
   "execution_count": 25,
   "metadata": {},
   "outputs": [
    {
     "data": {
      "text/plain": [
       "ObjectId('62a956a000e3583e1758d80c')"
      ]
     },
     "execution_count": 25,
     "metadata": {},
     "output_type": "execute_result"
    }
   ],
   "source": [
    "post_collection = db.posts\n",
    "post_id = post_collection.insert_one(post).inserted_id\n",
    "post_id"
   ]
  },
  {
   "cell_type": "code",
   "execution_count": 26,
   "metadata": {},
   "outputs": [
    {
     "name": "stdout",
     "output_type": "stream",
     "text": [
      "{'_id': ObjectId('628de76d9c628e0a3f69ff33'),\n",
      " 'author': 'Mike',\n",
      " 'date': datetime.datetime(2022, 5, 25, 8, 16, 48, 627000),\n",
      " 'tags': ['mongodb', 'python', 'pymongo'],\n",
      " 'text': 'My first blog post!'}\n"
     ]
    }
   ],
   "source": [
    "import pprint\n",
    "pprint.pprint(post_collection.find_one())"
   ]
  },
  {
   "cell_type": "code",
   "execution_count": 27,
   "metadata": {},
   "outputs": [
    {
     "name": "stdout",
     "output_type": "stream",
     "text": [
      "{'_id': ObjectId('628de76d9c628e0a3f69ff33'),\n",
      " 'author': 'Mike',\n",
      " 'date': datetime.datetime(2022, 5, 25, 8, 16, 48, 627000),\n",
      " 'tags': ['mongodb', 'python', 'pymongo'],\n",
      " 'text': 'My first blog post!'}\n"
     ]
    }
   ],
   "source": [
    "pprint.pprint(post_collection.find_one({\"author\": \"Mike\"}))"
   ]
  },
  {
   "cell_type": "code",
   "execution_count": 28,
   "metadata": {},
   "outputs": [],
   "source": [
    "post_collection.find_one({\"author\": \"Eliot\"})"
   ]
  },
  {
   "cell_type": "code",
   "execution_count": 29,
   "metadata": {},
   "outputs": [
    {
     "name": "stdout",
     "output_type": "stream",
     "text": [
      "{'_id': ObjectId('62a956a000e3583e1758d80c'),\n",
      " 'author': 'Mike',\n",
      " 'date': datetime.datetime(2022, 6, 15, 3, 48, 48, 279000),\n",
      " 'tags': ['mongodb', 'python', 'pymongo'],\n",
      " 'text': 'My first blog post!'}\n"
     ]
    }
   ],
   "source": [
    "pprint.pprint(post_collection.find_one({\"_id\": post_id}))"
   ]
  },
  {
   "cell_type": "markdown",
   "metadata": {},
   "source": [
    "## Inserting many Documents\n",
    "`insert_many()` This method is used to insert multiple entries in a collection or the database in MongoDB. The parameter of this method is a list that contains dictionaries of the data that we want to insert in the collection.\n"
   ]
  },
  {
   "cell_type": "code",
   "execution_count": 30,
   "metadata": {},
   "outputs": [],
   "source": [
    "post_2 = {\"author\": \"Leo\",\n",
    "        \"text\": \"Fasting 14-10\",\n",
    "        \"tags\": [\"python\", \"pymongo\", \"django\"],\n",
    "        \"date\": datetime.datetime.utcnow()}\n",
    "\n",
    "post_3 = {\"author\": \"Jack\",\n",
    "        \"text\": \"Fastest Car\",\n",
    "        \"tags\": [\"mongodb\", \"python\", \"pyspark\"],\n",
    "        \"date\": datetime.datetime.utcnow()}"
   ]
  },
  {
   "cell_type": "code",
   "execution_count": 31,
   "metadata": {},
   "outputs": [
    {
     "name": "stdout",
     "output_type": "stream",
     "text": [
      "{'_id': ObjectId('62a956a000e3583e1758d80d'),\n",
      " 'author': 'Leo',\n",
      " 'date': datetime.datetime(2022, 6, 15, 3, 48, 48, 320000),\n",
      " 'tags': ['python', 'pymongo', 'django'],\n",
      " 'text': 'Fasting 14-10'}\n",
      "{'_id': ObjectId('62a956a000e3583e1758d80e'),\n",
      " 'author': 'Jack',\n",
      " 'date': datetime.datetime(2022, 6, 15, 3, 48, 48, 320000),\n",
      " 'tags': ['mongodb', 'python', 'pyspark'],\n",
      " 'text': 'Fastest Car'}\n"
     ]
    }
   ],
   "source": [
    "new_result = post_collection.insert_many([post_2, post_3])\n",
    "\n",
    "for i in new_result.inserted_ids:\n",
    "    pprint.pprint(post_collection.find_one({\"_id\": i}))"
   ]
  },
  {
   "cell_type": "markdown",
   "metadata": {},
   "source": [
    "This is faster and more straightforward than calling `.insert_one()` multiple times. The call to `.insert_many()` takes an iterable of documents and inserts them into the tutorial collection in your rptutorials database."
   ]
  },
  {
   "cell_type": "markdown",
   "metadata": {},
   "source": [
    "## Querying for More Than One Document\n",
    "\n",
    "\n",
    "To retrieve documents from a collection, you can use `.find()`. Without arguments, `.find()` returns a Cursor object that yields the documents in the collection on demand:"
   ]
  },
  {
   "cell_type": "code",
   "execution_count": 32,
   "metadata": {},
   "outputs": [
    {
     "name": "stdout",
     "output_type": "stream",
     "text": [
      "{'_id': ObjectId('628de76d9c628e0a3f69ff33'), 'author': 'Mike', 'text': 'My first blog post!', 'tags': ['mongodb', 'python', 'pymongo'], 'date': datetime.datetime(2022, 5, 25, 8, 16, 48, 627000)}\n",
      "{'_id': ObjectId('628e77c09598a2b042476679'), 'author': 'Mike', 'text': 'My first blog post!', 'tags': ['mongodb', 'python', 'pymongo'], 'date': datetime.datetime(2022, 5, 25, 18, 38, 56, 601000)}\n",
      "{'_id': ObjectId('628ef229eebc6749ebf9c50d'), 'author': 'Mike', 'text': 'My first blog post!', 'tags': ['mongodb', 'python', 'pymongo'], 'date': datetime.datetime(2022, 5, 26, 3, 21, 13, 397000)}\n",
      "{'_id': ObjectId('628ef46feebc6749ebf9c50e'), 'author': 'Mike', 'text': 'My first blog post !', 'tags': ['mongodb', 'python', 'pymongo'], 'date': datetime.datetime(2022, 5, 26, 3, 30, 54, 831000)}\n",
      "{'_id': ObjectId('628ef4b8eebc6749ebf9c50f'), 'author': 'Tomas', 'text': 'My first blog post !', 'tags': ['mongodb', 'python', 'pymongo'], 'date': datetime.datetime(2022, 5, 26, 3, 32, 7, 766000)}\n",
      "{'_id': ObjectId('628ef6b1eebc6749ebf9c510'), 'author': 'Tomaas', 'text': 'My first blog post !', 'tags': ['mongodb', 'python', 'pymongo'], 'date': datetime.datetime(2022, 5, 26, 3, 40, 31, 190000)}\n",
      "{'_id': ObjectId('628ef7caeebc6749ebf9c511'), 'author': 'Leo', 'text': 'Fasting 14-10', 'tags': ['python', 'pymongo', 'django'], 'date': datetime.datetime(2022, 5, 26, 3, 45, 13, 729000)}\n",
      "{'_id': ObjectId('628ef7caeebc6749ebf9c512'), 'author': 'Jack', 'text': 'Fastest Car', 'tags': ['mongodb', 'python', 'pyspark'], 'date': datetime.datetime(2022, 5, 26, 3, 45, 13, 729000)}\n",
      "{'_id': ObjectId('628ef9bdeebc6749ebf9c513'), 'author': 'Alex', 'text': 'Fasting 14-10', 'tags': ['python', 'pymongo', 'django'], 'date': datetime.datetime(2022, 5, 26, 3, 53, 32, 659000)}\n",
      "{'_id': ObjectId('628ef9bdeebc6749ebf9c514'), 'author': 'Chris', 'text': 'Fastest Car', 'tags': ['mongodb', 'python', 'pyspark'], 'date': datetime.datetime(2022, 5, 26, 3, 53, 32, 659000)}\n",
      "{'_id': ObjectId('628f1fa15e366965934f25a2'), 'author': 'Mike', 'text': 'My first blog post!', 'tags': ['mongodb', 'python', 'pymongo'], 'date': datetime.datetime(2022, 5, 26, 6, 35, 13, 892000)}\n",
      "{'_id': ObjectId('628f20315e366965934f25a6'), 'author': 'Mike', 'text': 'My first blog post!', 'tags': ['mongodb', 'python', 'pymongo'], 'date': datetime.datetime(2022, 5, 26, 6, 37, 34, 930000)}\n",
      "{'_id': ObjectId('628f208c5e366965934f25a7'), 'author': 'Leo', 'text': 'Fasting 14-10', 'tags': ['python', 'pymongo', 'django'], 'date': datetime.datetime(2022, 5, 26, 6, 38, 28, 527000)}\n",
      "{'_id': ObjectId('628f208c5e366965934f25a8'), 'author': 'Jack', 'text': 'Fastest Car', 'tags': ['mongodb', 'python', 'pyspark'], 'date': datetime.datetime(2022, 5, 26, 6, 38, 28, 527000)}\n",
      "{'_id': ObjectId('62a9562000e3583e1758d805'), 'author': 'Mike', 'text': 'My first blog post!', 'tags': ['mongodb', 'python', 'pymongo'], 'date': datetime.datetime(2022, 6, 15, 3, 46, 40, 355000)}\n",
      "{'_id': ObjectId('62a9562000e3583e1758d806'), 'author': 'Leo', 'text': 'Fasting 14-10', 'tags': ['python', 'pymongo', 'django'], 'date': datetime.datetime(2022, 6, 15, 3, 46, 40, 505000)}\n",
      "{'_id': ObjectId('62a9562000e3583e1758d807'), 'author': 'Jack', 'text': 'Fastest Car', 'tags': ['mongodb', 'python', 'pyspark'], 'date': datetime.datetime(2022, 6, 15, 3, 46, 40, 505000)}\n",
      "{'_id': ObjectId('62a956a000e3583e1758d80c'), 'author': 'Mike', 'text': 'My first blog post!', 'tags': ['mongodb', 'python', 'pymongo'], 'date': datetime.datetime(2022, 6, 15, 3, 48, 48, 279000)}\n",
      "{'_id': ObjectId('62a956a000e3583e1758d80d'), 'author': 'Leo', 'text': 'Fasting 14-10', 'tags': ['python', 'pymongo', 'django'], 'date': datetime.datetime(2022, 6, 15, 3, 48, 48, 320000)}\n",
      "{'_id': ObjectId('62a956a000e3583e1758d80e'), 'author': 'Jack', 'text': 'Fastest Car', 'tags': ['mongodb', 'python', 'pyspark'], 'date': datetime.datetime(2022, 6, 15, 3, 48, 48, 320000)}\n"
     ]
    }
   ],
   "source": [
    "for doc in post_collection.find():\n",
    "    print(doc)"
   ]
  },
  {
   "cell_type": "markdown",
   "metadata": {},
   "source": [
    "## Counting\n",
    "\n",
    "If we just want to know how many documents match a query we can perform a `count_documents()` operation instead of a full query. We can get a count of all of the documents in a collection:"
   ]
  },
  {
   "cell_type": "code",
   "execution_count": 33,
   "metadata": {},
   "outputs": [
    {
     "data": {
      "text/plain": [
       "20"
      ]
     },
     "execution_count": 33,
     "metadata": {},
     "output_type": "execute_result"
    }
   ],
   "source": [
    "post_collection.count_documents({})"
   ]
  },
  {
   "cell_type": "markdown",
   "metadata": {},
   "source": [
    "## Aggregation\n",
    "\n",
    "There are several methods of performing aggregations in MongoDB. These examples cover the new aggregation framework, using map reduce and using the group method."
   ]
  },
  {
   "cell_type": "markdown",
   "metadata": {},
   "source": [
    "create a sample collection named inventory with the following document:"
   ]
  },
  {
   "cell_type": "code",
   "execution_count": 35,
   "metadata": {},
   "outputs": [
    {
     "data": {
      "text/plain": [
       "<pymongo.results.InsertOneResult at 0x27ff2d6f7c0>"
      ]
     },
     "execution_count": 35,
     "metadata": {},
     "output_type": "execute_result"
    }
   ],
   "source": [
    "db.inventory.insert_one({\"_id\" : 2, \"item\" : \"ABC1\", \"sizes\": [ \"S\", \"M\", \"L\"]})"
   ]
  },
  {
   "cell_type": "markdown",
   "metadata": {},
   "source": [
    "The following aggregation uses the $unwind stage to output a document for each element in the sizes array:"
   ]
  },
  {
   "cell_type": "code",
   "execution_count": 49,
   "metadata": {},
   "outputs": [
    {
     "name": "stdout",
     "output_type": "stream",
     "text": [
      "[{'_id': 2, 'item': 'ABC1', 'sizes': 'S'}, {'_id': 2, 'item': 'ABC1', 'sizes': 'M'}, {'_id': 2, 'item': 'ABC1', 'sizes': 'L'}]\n"
     ]
    }
   ],
   "source": [
    "result = db.inventory.aggregate( [ { \"$unwind\": \"$sizes\" } ] )\n",
    "print(list(result))"
   ]
  },
  {
   "cell_type": "code",
   "execution_count": 55,
   "metadata": {},
   "outputs": [
    {
     "data": {
      "text/plain": [
       "<pymongo.results.InsertManyResult at 0x27ff2d6f730>"
      ]
     },
     "execution_count": 55,
     "metadata": {},
     "output_type": "execute_result"
    }
   ],
   "source": [
    "db.inventory.insert_many([{\"x\": 1, \"tags\": [\"dog\", \"cat\"]},\n",
    "                                {\"x\": 2, \"tags\": [\"cat\"]},\n",
    "                                {\"x\": 2, \"tags\": [\"mouse\", \"cat\", \"dog\"]},\n",
    "                                {\"x\": 3, \"tags\": []}])\n"
   ]
  },
  {
   "cell_type": "code",
   "execution_count": 56,
   "metadata": {},
   "outputs": [
    {
     "name": "stdout",
     "output_type": "stream",
     "text": [
      "[{'_id': 'dog', 'count': 6}, {'_id': 'cat', 'count': 9}, {'_id': 'mouse', 'count': 3}]\n"
     ]
    }
   ],
   "source": [
    "result = db.inventory.aggregate( [ {\"$unwind\": \"$tags\"}, {\"$group\": {\"_id\": \"$tags\", \"count\": {\"$sum\": 1}}} ] )\n",
    "print(list(result))"
   ]
  },
  {
   "cell_type": "markdown",
   "metadata": {},
   "source": [
    "As python dictionaries don’t maintain order you should use `SON` or `collections.OrderedDict` where explicit ordering is required eg `“$sort”`:"
   ]
  },
  {
   "cell_type": "code",
   "execution_count": 52,
   "metadata": {},
   "outputs": [],
   "source": [
    "from bson.son import SON\n",
    "pipeline = [\n",
    "    {\"$unwind\": \"$tags\"},\n",
    "    {\"$group\": {\"_id\": \"$tags\", \"count\": {\"$sum\": 1}}},\n",
    "    {\"$sort\": {\"count\": -1, \"_id\": -1}}\n",
    "]\n",
    "result = collection.aggregate( pipeline )"
   ]
  },
  {
   "cell_type": "code",
   "execution_count": 53,
   "metadata": {},
   "outputs": [
    {
     "name": "stdout",
     "output_type": "stream",
     "text": [
      "[{'_id': 'cat', 'count': 9}, {'_id': 'dog', 'count': 6}, {'_id': 'mouse', 'count': 3}]\n"
     ]
    }
   ],
   "source": [
    "print(list(result))"
   ]
  },
  {
   "cell_type": "code",
   "execution_count": null,
   "metadata": {
    "pycharm": {
     "name": "#%%\n"
    }
   },
   "outputs": [],
   "source": []
  }
 ],
 "metadata": {
  "kernelspec": {
   "display_name": "Python 3 (ipykernel)",
   "language": "python",
   "name": "python3"
  },
  "language_info": {
   "codemirror_mode": {
    "name": "ipython",
    "version": 3
   },
   "file_extension": ".py",
   "mimetype": "text/x-python",
   "name": "python",
   "nbconvert_exporter": "python",
   "pygments_lexer": "ipython3",
   "version": "3.9.6"
  }
 },
 "nbformat": 4,
 "nbformat_minor": 4
}